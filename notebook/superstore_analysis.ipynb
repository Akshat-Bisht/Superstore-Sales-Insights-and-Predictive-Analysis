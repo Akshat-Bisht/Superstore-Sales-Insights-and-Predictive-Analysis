{
 "cells": [
  {
   "cell_type": "markdown",
   "id": "bd23e448",
   "metadata": {},
   "source": [
    "# Superstore Sales Insights & Predictive Analysis"
   ]
  },
  {
   "cell_type": "markdown",
   "id": "24747cf7",
   "metadata": {},
   "source": [
    "**Profile Fit:** Data Science Engineer  \n",
    "This notebook performs EDA and a baseline forecasting model."
   ]
  },
  {
   "cell_type": "code",
   "execution_count": null,
   "id": "60e9c27c",
   "metadata": {},
   "outputs": [],
   "source": [
    "import pandas as pd\n",
    "import numpy as np\n",
    "import matplotlib.pyplot as plt\n",
    "from pathlib import Path\n",
    "\n",
    "DATA = Path('..')/'data'/'Sample - Superstore.csv'\n",
    "\n",
    "def load_data(path):\n",
    "    try:\n",
    "        return pd.read_csv(path, encoding='utf-8')\n",
    "    except UnicodeDecodeError:\n",
    "        return pd.read_csv(path, encoding='latin-1')\n",
    "\n",
    "raw = load_data(DATA)\n",
    "raw.head()"
   ]
  },
  {
   "cell_type": "code",
   "execution_count": null,
   "id": "ab3b0ee9",
   "metadata": {},
   "outputs": [],
   "source": [
    "# Basic cleaning\n",
    "raw.columns = [c.strip().replace(' ', '_').replace('-', '_') for c in raw.columns]\n",
    "# Detect order date column\n",
    "order_col = None\n",
    "for c in raw.columns:\n",
    "    if c.lower().replace('_','').startswith('orderdate'):\n",
    "        order_col = c\n",
    "        break\n",
    "if order_col is None:\n",
    "    cands = [c for c in raw.columns if 'date' in c.lower()]\n",
    "    order_col = cands[0] if cands else None\n",
    "\n",
    "if order_col:\n",
    "    raw[order_col] = pd.to_datetime(raw[order_col], errors='coerce')\n",
    "    raw = raw.dropna(subset=[order_col]).sort_values(order_col)\n",
    "\n",
    "for name in ['Sales','Profit','Discount','Quantity']:\n",
    "    for c in raw.columns:\n",
    "        if c.lower()==name.lower():\n",
    "            raw[c] = pd.to_numeric(raw[c], errors='coerce')\n",
    "\n",
    "raw = raw.dropna(subset=[c for c in raw.columns if c.lower() in ['sales','profit']])\n",
    "raw.info()"
   ]
  },
  {
   "cell_type": "code",
   "execution_count": null,
   "id": "8aa7eed7",
   "metadata": {},
   "outputs": [],
   "source": [
    "# Monthly sales\n",
    "monthly = raw.set_index(order_col).resample('MS')['Sales'].sum().reset_index()\n",
    "plt.figure(figsize=(10,5))\n",
    "plt.plot(monthly[order_col], monthly['Sales'])\n",
    "plt.title('Monthly Sales Over Time')\n",
    "plt.xlabel('Month')\n",
    "plt.ylabel('Sales')\n",
    "plt.tight_layout()\n",
    "plt.show()"
   ]
  },
  {
   "cell_type": "code",
   "execution_count": null,
   "id": "391c76b4",
   "metadata": {},
   "outputs": [],
   "source": [
    "# Category/Sub-Category sales (choose first available)\n",
    "cat_col = None\n",
    "for c in raw.columns:\n",
    "    if c.lower() in ['category','segment','sub_category','subcategory']:\n",
    "        cat_col = c\n",
    "        break\n",
    "\n",
    "if cat_col:\n",
    "    cs = raw.groupby(cat_col)['Sales'].sum().sort_values(ascending=False)\n",
    "    cs.head(10)"
   ]
  },
  {
   "cell_type": "code",
   "execution_count": null,
   "id": "4f32d9c2",
   "metadata": {},
   "outputs": [],
   "source": [
    "if cat_col:\n",
    "    plt.figure(figsize=(8,5))\n",
    "    cs = raw.groupby(cat_col)['Sales'].sum().sort_values(ascending=False)\n",
    "    plt.bar(cs.index.astype(str), cs.values)\n",
    "    plt.title(f'Sales by {cat_col.replace(\"_\",\" \").title()}')\n",
    "    plt.xlabel(cat_col.replace('_',' ').title())\n",
    "    plt.ylabel('Total Sales')\n",
    "    plt.xticks(rotation=30, ha='right')\n",
    "    plt.tight_layout()\n",
    "    plt.show()"
   ]
  },
  {
   "cell_type": "code",
   "execution_count": null,
   "id": "20626025",
   "metadata": {},
   "outputs": [],
   "source": [
    "# Region-wise profit if available\n",
    "region_col = None\n",
    "for c in raw.columns:\n",
    "    if c.lower() in ['region','state','city']:\n",
    "        region_col = c\n",
    "        break\n",
    "\n",
    "if region_col:\n",
    "    rp = raw.groupby(region_col)['Profit'].sum().sort_values(ascending=False).head(15)\n",
    "    plt.figure(figsize=(10,6))\n",
    "    plt.bar(rp.index.astype(str), rp.values)\n",
    "    plt.title(f'Top {len(rp)} {region_col.replace(\"_\",\" \").title()}s by Profit')\n",
    "    plt.xlabel(region_col.replace('_',' ').title())\n",
    "    plt.ylabel('Total Profit')\n",
    "    plt.xticks(rotation=45, ha='right')\n",
    "    plt.tight_layout()\n",
    "    plt.show()"
   ]
  },
  {
   "cell_type": "code",
   "execution_count": null,
   "id": "922bc836",
   "metadata": {},
   "outputs": [],
   "source": [
    "# Discount vs Profit\n",
    "if 'Discount' in raw.columns and 'Profit' in raw.columns:\n",
    "    samp = raw.sample(min(5000, len(raw)), random_state=42)\n",
    "    plt.figure(figsize=(6,6))\n",
    "    plt.scatter(samp['Discount'], samp['Profit'], s=10, alpha=0.6)\n",
    "    plt.title('Discount vs Profit')\n",
    "    plt.xlabel('Discount')\n",
    "    plt.ylabel('Profit')\n",
    "    plt.tight_layout()\n",
    "    plt.show()"
   ]
  },
  {
   "cell_type": "code",
   "execution_count": null,
   "id": "eaad1baf",
   "metadata": {},
   "outputs": [],
   "source": [
    "# Correlation heatmap with matplotlib\n",
    "num_cols = [c for c in raw.columns if raw[c].dtype.kind in 'if' and c != order_col]\n",
    "if len(num_cols) >= 2:\n",
    "    corr = raw[num_cols].corr()\n",
    "    plt.figure(figsize=(6,5))\n",
    "    plt.imshow(corr, interpolation='nearest')\n",
    "    plt.title('Correlation Heatmap')\n",
    "    plt.colorbar()\n",
    "    plt.xticks(range(len(num_cols)), num_cols, rotation=45, ha='right')\n",
    "    plt.yticks(range(len(num_cols)), num_cols)\n",
    "    plt.tight_layout()\n",
    "    plt.show()"
   ]
  },
  {
   "cell_type": "code",
   "execution_count": null,
   "id": "3fb1cc74",
   "metadata": {},
   "outputs": [],
   "source": [
    "# Forecasting: baseline linear regression on monthly sales\n",
    "from numpy.polynomial.polynomial import polyfit, polyval\n",
    "try:\n",
    "    from sklearn.linear_model import LinearRegression\n",
    "    from sklearn.metrics import r2_score, mean_absolute_error, mean_squared_error\n",
    "    lin = LinearRegression().fit(monthly[['Sales']].reset_index().index.values.reshape(-1,1), monthly['Sales'].values)\n",
    "    X = np.arange(len(monthly)).reshape(-1,1)\n",
    "    y_pred = lin.predict(X)\n",
    "    r2 = r2_score(monthly['Sales'].values, y_pred)\n",
    "    print('R2:', r2)\n",
    "except Exception as e:\n",
    "    t = np.arange(len(monthly))\n",
    "    b1, b0 = polyfit(t, monthly['Sales'].values, 1)\n",
    "    y_pred = b0 + b1*t\n",
    "\n",
    "plt.figure(figsize=(10,5))\n",
    "plt.plot(monthly[order_col], monthly['Sales'], label='Actual')\n",
    "plt.plot(monthly[order_col], y_pred, label='Trend')\n",
    "plt.title('Monthly Sales with Trend')\n",
    "plt.xlabel('Month')\n",
    "plt.ylabel('Sales')\n",
    "plt.legend()\n",
    "plt.tight_layout()\n",
    "plt.show()"
   ]
  }
 ],
 "metadata": {},
 "nbformat": 4,
 "nbformat_minor": 5
}
